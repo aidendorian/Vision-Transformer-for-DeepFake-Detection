{
 "cells": [
  {
   "cell_type": "markdown",
   "id": "cbb2e2b1",
   "metadata": {},
   "source": [
    "# Vision Transformer for Deepfake Detection"
   ]
  },
  {
   "cell_type": "code",
   "execution_count": 3,
   "id": "331a06e3",
   "metadata": {},
   "outputs": [],
   "source": [
    "import torch\n",
    "from torchinfo import summary"
   ]
  },
  {
   "cell_type": "markdown",
   "id": "e12f546e",
   "metadata": {},
   "source": [
    "### Dividing into Patches and Processing"
   ]
  },
  {
   "cell_type": "code",
   "execution_count": null,
   "id": "d1c38e58",
   "metadata": {},
   "outputs": [],
   "source": [
    "class PatchAndProcess(torch.nn.Module):\n",
    "    def __init__(self,\n",
    "                 in_channels:int=3,\n",
    "                 patch_size:int=16,\n",
    "                 embedding_dim:int=768): # 768, assuming image would be of size 224 x 224.\n",
    "        super().__init__()\n",
    "        \n",
    "        self.patches = torch.nn.Conv2d(in_channels=in_channels,\n",
    "                                       out_channels=embedding_dim,\n",
    "                                       kernel_size=patch_size,\n",
    "                                       stride=patch_size,\n",
    "                                       padding=0)\n",
    "        \n",
    "        self.fft = torch.fft.fft2()\n",
    "        \n",
    "        self.flatten = torch.nn.Flatten(start_dim=2,\n",
    "                                        end_dim=3)\n",
    "        \n",
    "        \n",
    "        \n",
    "        \n",
    "        "
   ]
  },
  {
   "cell_type": "code",
   "execution_count": 16,
   "id": "7e7b3451",
   "metadata": {},
   "outputs": [],
   "source": [
    "patcher = torch.nn.Conv2d(in_channels=3,\n",
    "                          out_channels=768,\n",
    "                          kernel_size=16,\n",
    "                          stride=16,\n",
    "                          padding=0)\n",
    "\n",
    "tensor_A = torch.randn(1, 3, 224, 224)"
   ]
  },
  {
   "cell_type": "code",
   "execution_count": 17,
   "id": "9e72090b",
   "metadata": {},
   "outputs": [],
   "source": [
    "patched = patcher(tensor_A)"
   ]
  },
  {
   "cell_type": "code",
   "execution_count": 18,
   "id": "203b0197",
   "metadata": {},
   "outputs": [
    {
     "data": {
      "text/plain": [
       "torch.Size([1, 768, 14, 14])"
      ]
     },
     "execution_count": 18,
     "metadata": {},
     "output_type": "execute_result"
    }
   ],
   "source": [
    "patched.shape"
   ]
  },
  {
   "cell_type": "code",
   "execution_count": 19,
   "id": "1d6dbfb4",
   "metadata": {},
   "outputs": [],
   "source": [
    "transformed = torch.fft.fft2(patched)"
   ]
  },
  {
   "cell_type": "code",
   "execution_count": 20,
   "id": "39700ee0",
   "metadata": {},
   "outputs": [
    {
     "data": {
      "text/plain": [
       "torch.Size([1, 768, 14, 14])"
      ]
     },
     "execution_count": 20,
     "metadata": {},
     "output_type": "execute_result"
    }
   ],
   "source": [
    "transformed.shape"
   ]
  },
  {
   "cell_type": "code",
   "execution_count": null,
   "id": "55af8f00",
   "metadata": {},
   "outputs": [
    {
     "data": {
      "text/plain": [
       "tensor([[True, True, True, True, True, True, True, True, True, True, True, True,\n",
       "         True, True],\n",
       "        [True, True, True, True, True, True, True, True, True, True, True, True,\n",
       "         True, True],\n",
       "        [True, True, True, True, True, True, True, True, True, True, True, True,\n",
       "         True, True],\n",
       "        [True, True, True, True, True, True, True, True, True, True, True, True,\n",
       "         True, True],\n",
       "        [True, True, True, True, True, True, True, True, True, True, True, True,\n",
       "         True, True],\n",
       "        [True, True, True, True, True, True, True, True, True, True, True, True,\n",
       "         True, True],\n",
       "        [True, True, True, True, True, True, True, True, True, True, True, True,\n",
       "         True, True],\n",
       "        [True, True, True, True, True, True, True, True, True, True, True, True,\n",
       "         True, True],\n",
       "        [True, True, True, True, True, True, True, True, True, True, True, True,\n",
       "         True, True],\n",
       "        [True, True, True, True, True, True, True, True, True, True, True, True,\n",
       "         True, True],\n",
       "        [True, True, True, True, True, True, True, True, True, True, True, True,\n",
       "         True, True],\n",
       "        [True, True, True, True, True, True, True, True, True, True, True, True,\n",
       "         True, True],\n",
       "        [True, True, True, True, True, True, True, True, True, True, True, True,\n",
       "         True, True],\n",
       "        [True, True, True, True, True, True, True, True, True, True, True, True,\n",
       "         True, True]])"
      ]
     },
     "execution_count": 28,
     "metadata": {},
     "output_type": "execute_result"
    }
   ],
   "source": []
  },
  {
   "cell_type": "code",
   "execution_count": null,
   "id": "3fd0a168",
   "metadata": {},
   "outputs": [],
   "source": []
  }
 ],
 "metadata": {
  "kernelspec": {
   "display_name": "imgCl",
   "language": "python",
   "name": "python3"
  },
  "language_info": {
   "codemirror_mode": {
    "name": "ipython",
    "version": 3
   },
   "file_extension": ".py",
   "mimetype": "text/x-python",
   "name": "python",
   "nbconvert_exporter": "python",
   "pygments_lexer": "ipython3",
   "version": "3.12.3"
  }
 },
 "nbformat": 4,
 "nbformat_minor": 5
}
